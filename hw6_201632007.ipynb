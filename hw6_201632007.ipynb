{
  "nbformat": 4,
  "nbformat_minor": 0,
  "metadata": {
    "colab": {
      "name": "LinearRegression.ipynb",
      "provenance": [],
      "collapsed_sections": []
    },
    "kernelspec": {
      "name": "python3",
      "display_name": "Python 3"
    },
    "language_info": {
      "name": "python"
    }
  },
  "cells": [
    {
      "cell_type": "code",
      "metadata": {
        "id": "OskqGFK4mgLu"
      },
      "source": [
        "import numpy as np"
      ],
      "execution_count": 1,
      "outputs": []
    },
    {
      "cell_type": "code",
      "metadata": {
        "id": "X4MUxPF3kccW"
      },
      "source": [
        "perch_length = np.array([8.4, 13.7, 15.0, 16.2, 17.4, 18.0, 18.7, 19.0, 19.6, 20.0, 21.0, \n",
        "       21.0, 21.0, 21.3, 22.0, 22.0, 22.0, 22.0, 22.0, 22.5, 22.5, 22.7,\n",
        "       23.0, 23.5, 24.0, 24.0, 24.6, 25.0, 25.6, 26.5, 27.3, 27.5, 27.5,\n",
        "       27.5, 28.0, 28.7, 30.0, 32.8, 34.5, 35.0, 36.5, 36.0, 37.0, 37.0,\n",
        "       39.0, 39.0, 39.0, 40.0, 40.0, 40.0, 40.0, 42.0, 43.0, 43.0, 43.5,\n",
        "       44.0])\n",
        "\n",
        "perch_weight = np.array([5.9, 32.0, 40.0, 51.5, 70.0, 100.0, 78.0, 80.0, 85.0, 85.0, 110.0,\n",
        "        115.0, 125.0, 130.0, 120.0, 120.0, 130.0, 135.0, 110.0, 130.0,\n",
        "        150.0, 145.0, 150.0, 170.0, 225.0, 145.0, 188.0, 180.0, 197.0,\n",
        "        218.0, 300.0, 260.0, 265.0, 250.0, 250.0, 300.0, 320.0, 514.0,\n",
        "        556.0, 840.0, 685.0, 700.0, 700.0, 690.0, 900.0, 650.0, 820.0,\n",
        "        850.0, 900.0, 1015.0, 820.0, 1100.0, 1000.0, 1100.0, 1000.0,\n",
        "        1000.0])"
      ],
      "execution_count": 2,
      "outputs": []
    },
    {
      "cell_type": "code",
      "metadata": {
        "colab": {
          "base_uri": "https://localhost:8080/"
        },
        "id": "kixZ4_ynmaKP",
        "outputId": "a918a58d-5628-42f5-92ae-dc74191f3cb8"
      },
      "source": [
        "from sklearn.model_selection import train_test_split\n",
        "\n",
        "train_input, test_input, train_target, test_target = train_test_split(perch_length, perch_weight, random_state=42)\n",
        "train_input = train_input.reshape(-1,1)\n",
        "test_input = test_input.reshape(-1,1)\n",
        "\n",
        "\n",
        "print(train_input.shape)\n",
        "print(test_input.shape)\n",
        "print(train_target.shape)\n",
        "print(test_target.shape)\n"
      ],
      "execution_count": 3,
      "outputs": [
        {
          "output_type": "stream",
          "name": "stdout",
          "text": [
            "(42, 1)\n",
            "(14, 1)\n",
            "(42,)\n",
            "(14,)\n"
          ]
        }
      ]
    },
    {
      "cell_type": "code",
      "metadata": {
        "colab": {
          "base_uri": "https://localhost:8080/"
        },
        "id": "iNSoJvyOnFwe",
        "outputId": "96a87e82-3113-4582-d18a-2b3b82325b49"
      },
      "source": [
        "from sklearn.neighbors import KNeighborsRegressor\n",
        "\n",
        "knr = KNeighborsRegressor(n_neighbors=3)\n",
        "\n",
        "knr.fit(train_input, train_target)\n"
      ],
      "execution_count": 4,
      "outputs": [
        {
          "output_type": "execute_result",
          "data": {
            "text/plain": [
              "KNeighborsRegressor(algorithm='auto', leaf_size=30, metric='minkowski',\n",
              "                    metric_params=None, n_jobs=None, n_neighbors=3, p=2,\n",
              "                    weights='uniform')"
            ]
          },
          "metadata": {},
          "execution_count": 4
        }
      ]
    },
    {
      "cell_type": "code",
      "metadata": {
        "colab": {
          "base_uri": "https://localhost:8080/"
        },
        "id": "DFsHnNeDnJa0",
        "outputId": "e89e2652-1d86-426e-a473-c17d695ced0b"
      },
      "source": [
        "\n",
        "print(knr.score(train_input, train_target))\n",
        "print(knr.score(test_input, test_target))"
      ],
      "execution_count": 5,
      "outputs": [
        {
          "output_type": "stream",
          "name": "stdout",
          "text": [
            "0.9804899950518966\n",
            "0.974645996398761\n"
          ]
        }
      ]
    },
    {
      "cell_type": "code",
      "metadata": {
        "colab": {
          "base_uri": "https://localhost:8080/"
        },
        "id": "tNOSLXcUnicy",
        "outputId": "c18d0236-cfeb-4e26-fb99-0ee27beeffdb"
      },
      "source": [
        "print(knr.predict([[50]]))"
      ],
      "execution_count": 6,
      "outputs": [
        {
          "output_type": "stream",
          "name": "stdout",
          "text": [
            "[1033.33333333]\n"
          ]
        }
      ]
    },
    {
      "cell_type": "code",
      "metadata": {
        "colab": {
          "base_uri": "https://localhost:8080/",
          "height": 354
        },
        "id": "rwYhwN5fntGg",
        "outputId": "1aad6f24-176e-42b5-b422-a427e7998fe9"
      },
      "source": [
        "import matplotlib.pyplot as plt\n",
        "\n",
        "length =50\n",
        "print(knr.predict([[length]]))\n",
        "_, indices = knr.kneighbors([[length]])\n",
        "\n",
        "plt.scatter(train_input, train_target)\n",
        "plt.scatter(length,knr.predict([[length]]), marker = '^')\n",
        "plt.scatter(train_input[indices], train_target[indices], marker='D')\n",
        "\n",
        "print(train_input[indices])\n",
        "plt.xlabel('length')\n",
        "plt.ylabel('weight')\n",
        "plt.show()"
      ],
      "execution_count": 7,
      "outputs": [
        {
          "output_type": "stream",
          "name": "stdout",
          "text": [
            "[1033.33333333]\n",
            "[[[44.]\n",
            "  [43.]\n",
            "  [43.]]]\n"
          ]
        },
        {
          "output_type": "display_data",
          "data": {
            "image/png": "[encoded data removed]",
            "text/plain": [
              "<Figure size 432x288 with 1 Axes>"
            ]
          },
          "metadata": {
            "needs_background": "light"
          }
        }
      ]
    },
    {
      "cell_type": "code",
      "metadata": {
        "colab": {
          "base_uri": "https://localhost:8080/"
        },
        "id": "09uo2MRkpqgc",
        "outputId": "1c5c74d7-e7d8-4018-a0f5-64a0cd1c8cbb"
      },
      "source": [
        "from sklearn.linear_model import LinearRegression\n",
        "\n",
        "lr = LinearRegression()\n",
        "\n",
        "lr.fit(train_input, train_target)\n",
        "\n",
        "print(50, lr.predict([[50]]))\n",
        "print(80, lr.predict([[80]]))"
      ],
      "execution_count": 8,
      "outputs": [
        {
          "output_type": "stream",
          "name": "stdout",
          "text": [
            "50 [1241.83860323]\n",
            "80 [2412.35295214]\n"
          ]
        }
      ]
    },
    {
      "cell_type": "code",
      "metadata": {
        "colab": {
          "base_uri": "https://localhost:8080/"
        },
        "id": "6fwxNEw0p_Po",
        "outputId": "13def0df-34f6-4d74-f9da-0c089b1c3047"
      },
      "source": [
        "print(lr.coef_, lr.intercept_)"
      ],
      "execution_count": 9,
      "outputs": [
        {
          "output_type": "stream",
          "name": "stdout",
          "text": [
            "[39.01714496] -709.0186449535477\n"
          ]
        }
      ]
    },
    {
      "cell_type": "code",
      "metadata": {
        "colab": {
          "base_uri": "https://localhost:8080/",
          "height": 354
        },
        "id": "m8kp5rxkrEVY",
        "outputId": "464f0893-7c81-406a-f81c-ed5b924b70fb"
      },
      "source": [
        "test_length = 50\n",
        "print(knr.predict([[test_length]]))\n",
        "_, indices = knr.kneighbors([[test_length]])\n",
        "\n",
        "plt.scatter(train_input, train_target)\n",
        "#plt.scatter(length,knr.predict([[length]]), marker = '^')\n",
        "plt.plot([0,50], [lr.coef_*0 + lr.intercept_, lr.coef_*50 + lr.intercept_ ])\n",
        "plt.scatter(test_length, lr.predict([[test_length]]), marker= '^')\n",
        "\n",
        "print(train_input[indices])\n",
        "plt.xlabel('length')\n",
        "plt.ylabel('weight')\n",
        "plt.show()"
      ],
      "execution_count": 12,
      "outputs": [
        {
          "output_type": "stream",
          "name": "stdout",
          "text": [
            "[1033.33333333]\n",
            "[[[44.]\n",
            "  [43.]\n",
            "  [43.]]]\n"
          ]
        },
        {
          "output_type": "display_data",
          "data": {
            "image/png": "[encoded data removed]",
            "text/plain": [
              "<Figure size 432x288 with 1 Axes>"
            ]
          },
          "metadata": {
            "needs_background": "light"
          }
        }
      ]
    },
    {
      "cell_type": "code",
      "metadata": {
        "colab": {
          "base_uri": "https://localhost:8080/"
        },
        "id": "eVWEzAEF6C3e",
        "outputId": "80a5f6f4-5b59-48d0-f8f1-0ea41c2aaa22"
      },
      "source": [
        "print(lr.score(train_input, train_target))\n",
        "print(lr.score(test_input, test_target))"
      ],
      "execution_count": 11,
      "outputs": [
        {
          "output_type": "stream",
          "name": "stdout",
          "text": [
            "0.9398463339976039\n",
            "0.8247503123313558\n"
          ]
        }
      ]
    },
    {
      "cell_type": "code",
      "metadata": {
        "colab": {
          "base_uri": "https://localhost:8080/"
        },
        "id": "BmD87JCXdWEz",
        "outputId": "3ccea464-c107-4fbb-c04f-4ab10a2e4406"
      },
      "source": [
        "train_poly = np.column_stack((train_input ** 2 , train_input))\n",
        "test_poly = np.column_stack((test_input ** 2, test_input))\n",
        "\n",
        "print(train_poly.shape)\n",
        "print(test_poly.shape)\n",
        "\n",
        "train_poly[:3]"
      ],
      "execution_count": 13,
      "outputs": [
        {
          "output_type": "stream",
          "name": "stdout",
          "text": [
            "(42, 2)\n",
            "(14, 2)\n"
          ]
        },
        {
          "output_type": "execute_result",
          "data": {
            "text/plain": [
              "array([[384.16,  19.6 ],\n",
              "       [484.  ,  22.  ],\n",
              "       [349.69,  18.7 ]])"
            ]
          },
          "metadata": {},
          "execution_count": 13
        }
      ]
    },
    {
      "cell_type": "code",
      "metadata": {
        "colab": {
          "base_uri": "https://localhost:8080/"
        },
        "id": "bpH1V5-Rd9kV",
        "outputId": "93d3c698-e877-42b9-de9d-5b608af625a6"
      },
      "source": [
        "from sklearn.linear_model import LinearRegression\n",
        "\n",
        "lr2 = LinearRegression()\n",
        "\n",
        "lr2.fit(train_poly, train_target)\n",
        "\n",
        "print(50, lr2.predict([[50**2, 50]]))\n",
        "print(80, lr2.predict([[80**2, 50]]))\n",
        "\n",
        "print(lr2.score(train_poly, train_target))\n",
        "print(lr2.score(test_poly, test_target))"
      ],
      "execution_count": 16,
      "outputs": [
        {
          "output_type": "stream",
          "name": "stdout",
          "text": [
            "50 [1573.98423528]\n",
            "80 [5529.87946185]\n",
            "0.9706807451768623\n",
            "0.9775935108325122\n"
          ]
        }
      ]
    },
    {
      "cell_type": "code",
      "metadata": {
        "colab": {
          "base_uri": "https://localhost:8080/"
        },
        "id": "DQd1JTOOe288",
        "outputId": "fce95b7d-846b-487b-ef69-b04673471155"
      },
      "source": [
        "print(lr2.coef_, lr2.intercept_)"
      ],
      "execution_count": 17,
      "outputs": [
        {
          "output_type": "stream",
          "name": "stdout",
          "text": [
            "[  1.01433211 -21.55792498] 116.05021078278276\n"
          ]
        }
      ]
    },
    {
      "cell_type": "code",
      "metadata": {
        "colab": {
          "base_uri": "https://localhost:8080/",
          "height": 279
        },
        "id": "ZGlQTk2EeQcx",
        "outputId": "3cae01e6-96bd-439e-aaf7-8bf4350d217a"
      },
      "source": [
        "x = np.arange(15, 50)\n",
        "\n",
        "plt.scatter(train_input, train_target)\n",
        "plt.scatter(test_input, test_target)\n",
        "\n",
        "plt.plot(x, lr2.coef_[0] * x ** 2 + lr2.coef_[1] * x + lr2.intercept_)\n",
        "plt.scatter(50, lr2.predict([[50**2, 50]]), marker= '^')\n",
        "\n",
        "\n",
        "plt.xlabel('length')\n",
        "plt.ylabel('weight')\n",
        "plt.show()"
      ],
      "execution_count": 22,
      "outputs": [
        {
          "output_type": "display_data",
          "data": {
            "image/png": "[encoded data removed]",
            "text/plain": [
              "<Figure size 432x288 with 1 Axes>"
            ]
          },
          "metadata": {
            "needs_background": "light"
          }
        }
      ]
    }
  ]
}