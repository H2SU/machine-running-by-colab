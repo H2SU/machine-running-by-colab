{
  "nbformat": 4,
  "nbformat_minor": 0,
  "metadata": {
    "colab": {
      "name": "Untitled0.ipynb",
      "provenance": [],
      "collapsed_sections": []
    },
    "kernelspec": {
      "name": "python3",
      "display_name": "Python 3"
    },
    "language_info": {
      "name": "python"
    }
  },
  "cells": [
    {
      "cell_type": "code",
      "metadata": {
        "id": "hHqeQmD5gc9e"
      },
      "source": [
        "import pandas as pd\n",
        "\n",
        "df = pd.read_csv(\"https://bit.ly/perch_csv_data\")"
      ],
      "execution_count": 2,
      "outputs": []
    },
    {
      "cell_type": "code",
      "metadata": {
        "colab": {
          "base_uri": "https://localhost:8080/",
          "height": 363
        },
        "id": "FrKJaKy6hSlz",
        "outputId": "555b5287-5a66-47d4-d889-dc8cbc5e8e7f"
      },
      "source": [
        "df.head(10)"
      ],
      "execution_count": 3,
      "outputs": [
        {
          "output_type": "execute_result",
          "data": {
            "text/html": [
              "<div>\n",
              "<style scoped>\n",
              "    .dataframe tbody tr th:only-of-type {\n",
              "        vertical-align: middle;\n",
              "    }\n",
              "\n",
              "    .dataframe tbody tr th {\n",
              "        vertical-align: top;\n",
              "    }\n",
              "\n",
              "    .dataframe thead th {\n",
              "        text-align: right;\n",
              "    }\n",
              "</style>\n",
              "<table border=\"1\" class=\"dataframe\">\n",
              "  <thead>\n",
              "    <tr style=\"text-align: right;\">\n",
              "      <th></th>\n",
              "      <th>length</th>\n",
              "      <th>height</th>\n",
              "      <th>width</th>\n",
              "    </tr>\n",
              "  </thead>\n",
              "  <tbody>\n",
              "    <tr>\n",
              "      <th>0</th>\n",
              "      <td>8.4</td>\n",
              "      <td>2.11</td>\n",
              "      <td>1.41</td>\n",
              "    </tr>\n",
              "    <tr>\n",
              "      <th>1</th>\n",
              "      <td>13.7</td>\n",
              "      <td>3.53</td>\n",
              "      <td>2.00</td>\n",
              "    </tr>\n",
              "    <tr>\n",
              "      <th>2</th>\n",
              "      <td>15.0</td>\n",
              "      <td>3.82</td>\n",
              "      <td>2.43</td>\n",
              "    </tr>\n",
              "    <tr>\n",
              "      <th>3</th>\n",
              "      <td>16.2</td>\n",
              "      <td>4.59</td>\n",
              "      <td>2.63</td>\n",
              "    </tr>\n",
              "    <tr>\n",
              "      <th>4</th>\n",
              "      <td>17.4</td>\n",
              "      <td>4.59</td>\n",
              "      <td>2.94</td>\n",
              "    </tr>\n",
              "    <tr>\n",
              "      <th>5</th>\n",
              "      <td>18.0</td>\n",
              "      <td>5.22</td>\n",
              "      <td>3.32</td>\n",
              "    </tr>\n",
              "    <tr>\n",
              "      <th>6</th>\n",
              "      <td>18.7</td>\n",
              "      <td>5.20</td>\n",
              "      <td>3.12</td>\n",
              "    </tr>\n",
              "    <tr>\n",
              "      <th>7</th>\n",
              "      <td>19.0</td>\n",
              "      <td>5.64</td>\n",
              "      <td>3.05</td>\n",
              "    </tr>\n",
              "    <tr>\n",
              "      <th>8</th>\n",
              "      <td>19.6</td>\n",
              "      <td>5.14</td>\n",
              "      <td>3.04</td>\n",
              "    </tr>\n",
              "    <tr>\n",
              "      <th>9</th>\n",
              "      <td>20.0</td>\n",
              "      <td>5.08</td>\n",
              "      <td>2.77</td>\n",
              "    </tr>\n",
              "  </tbody>\n",
              "</table>\n",
              "</div>"
            ],
            "text/plain": [
              "   length   height   width\n",
              "0     8.4     2.11    1.41\n",
              "1    13.7     3.53    2.00\n",
              "2    15.0     3.82    2.43\n",
              "3    16.2     4.59    2.63\n",
              "4    17.4     4.59    2.94\n",
              "5    18.0     5.22    3.32\n",
              "6    18.7     5.20    3.12\n",
              "7    19.0     5.64    3.05\n",
              "8    19.6     5.14    3.04\n",
              "9    20.0     5.08    2.77"
            ]
          },
          "metadata": {},
          "execution_count": 3
        }
      ]
    },
    {
      "cell_type": "code",
      "metadata": {
        "colab": {
          "base_uri": "https://localhost:8080/"
        },
        "id": "8tQXoxHRhU5u",
        "outputId": "4a855554-9427-4b51-df3c-1513ee67d564"
      },
      "source": [
        "perch_full = df.to_numpy()\n",
        "perch_full"
      ],
      "execution_count": 5,
      "outputs": [
        {
          "output_type": "execute_result",
          "data": {
            "text/plain": [
              "array([[ 8.4 ,  2.11,  1.41],\n",
              "       [13.7 ,  3.53,  2.  ],\n",
              "       [15.  ,  3.82,  2.43],\n",
              "       [16.2 ,  4.59,  2.63],\n",
              "       [17.4 ,  4.59,  2.94],\n",
              "       [18.  ,  5.22,  3.32],\n",
              "       [18.7 ,  5.2 ,  3.12],\n",
              "       [19.  ,  5.64,  3.05],\n",
              "       [19.6 ,  5.14,  3.04],\n",
              "       [20.  ,  5.08,  2.77],\n",
              "       [21.  ,  5.69,  3.56],\n",
              "       [21.  ,  5.92,  3.31],\n",
              "       [21.  ,  5.69,  3.67],\n",
              "       [21.3 ,  6.38,  3.53],\n",
              "       [22.  ,  6.11,  3.41],\n",
              "       [22.  ,  5.64,  3.52],\n",
              "       [22.  ,  6.11,  3.52],\n",
              "       [22.  ,  5.88,  3.52],\n",
              "       [22.  ,  5.52,  4.  ],\n",
              "       [22.5 ,  5.86,  3.62],\n",
              "       [22.5 ,  6.79,  3.62],\n",
              "       [22.7 ,  5.95,  3.63],\n",
              "       [23.  ,  5.22,  3.63],\n",
              "       [23.5 ,  6.28,  3.72],\n",
              "       [24.  ,  7.29,  3.72],\n",
              "       [24.  ,  6.38,  3.82],\n",
              "       [24.6 ,  6.73,  4.17],\n",
              "       [25.  ,  6.44,  3.68],\n",
              "       [25.6 ,  6.56,  4.24],\n",
              "       [26.5 ,  7.17,  4.14],\n",
              "       [27.3 ,  8.32,  5.14],\n",
              "       [27.5 ,  7.17,  4.34],\n",
              "       [27.5 ,  7.05,  4.34],\n",
              "       [27.5 ,  7.28,  4.57],\n",
              "       [28.  ,  7.82,  4.2 ],\n",
              "       [28.7 ,  7.59,  4.64],\n",
              "       [30.  ,  7.62,  4.77],\n",
              "       [32.8 , 10.03,  6.02],\n",
              "       [34.5 , 10.26,  6.39],\n",
              "       [35.  , 11.49,  7.8 ],\n",
              "       [36.5 , 10.88,  6.86],\n",
              "       [36.  , 10.61,  6.74],\n",
              "       [37.  , 10.84,  6.26],\n",
              "       [37.  , 10.57,  6.37],\n",
              "       [39.  , 11.14,  7.49],\n",
              "       [39.  , 11.14,  6.  ],\n",
              "       [39.  , 12.43,  7.35],\n",
              "       [40.  , 11.93,  7.11],\n",
              "       [40.  , 11.73,  7.22],\n",
              "       [40.  , 12.38,  7.46],\n",
              "       [40.  , 11.14,  6.63],\n",
              "       [42.  , 12.8 ,  6.87],\n",
              "       [43.  , 11.93,  7.28],\n",
              "       [43.  , 12.51,  7.42],\n",
              "       [43.5 , 12.6 ,  8.14],\n",
              "       [44.  , 12.49,  7.6 ]])"
            ]
          },
          "metadata": {},
          "execution_count": 5
        }
      ]
    },
    {
      "cell_type": "code",
      "metadata": {
        "id": "QDKzaSj4hfmr"
      },
      "source": [
        "import numpy as np\n",
        "\n",
        "perch_weight = np.array([5.9, 32.0, 40.0, 51.5, 70.0, 100.0, 78.0, 80.0, 85.0, 85.0, 110.0,\n",
        "        115.0, 125.0, 130.0, 120.0, 120.0, 130.0, 135.0, 110.0, 130.0,\n",
        "        150.0, 145.0, 150.0, 170.0, 225.0, 145.0, 188.0, 180.0, 197.0,\n",
        "        218.0, 300.0, 260.0, 265.0, 250.0, 250.0, 300.0, 320.0, 514.0,\n",
        "        556.0, 840.0, 685.0, 700.0, 700.0, 690.0, 900.0, 650.0, 820.0,\n",
        "        850.0, 900.0, 1015.0, 820.0, 1100.0, 1000.0, 1100.0, 1000.0,\n",
        "        1000.0])"
      ],
      "execution_count": 7,
      "outputs": []
    },
    {
      "cell_type": "code",
      "metadata": {
        "id": "VmKolsQrhlyH"
      },
      "source": [
        "from sklearn.model_selection import train_test_split\n",
        "\n",
        "train_input, test_input, train_target, test_target = train_test_split(perch_full, perch_weight, random_state=42)"
      ],
      "execution_count": 9,
      "outputs": []
    },
    {
      "cell_type": "code",
      "metadata": {
        "colab": {
          "base_uri": "https://localhost:8080/"
        },
        "id": "MR42TV2vhz-K",
        "outputId": "57038cd0-b0f1-4c8c-8d48-5fd7f36ad20c"
      },
      "source": [
        "from sklearn.preprocessing import PolynomialFeatures\n",
        "\n",
        "poly = PolynomialFeatures()\n",
        "poly.fit([[2,3]])\n",
        "poly.transform([[3,4],[1,2]])\n",
        "poly.get_feature_names()"
      ],
      "execution_count": 12,
      "outputs": [
        {
          "output_type": "execute_result",
          "data": {
            "text/plain": [
              "['1', 'x0', 'x1', 'x0^2', 'x0 x1', 'x1^2']"
            ]
          },
          "metadata": {},
          "execution_count": 12
        }
      ]
    },
    {
      "cell_type": "code",
      "metadata": {
        "colab": {
          "base_uri": "https://localhost:8080/"
        },
        "id": "911LYk6MiYXd",
        "outputId": "608c47d1-4c39-4c68-a193-2b518a3c885b"
      },
      "source": [
        "poly = PolynomialFeatures(include_bias=False)\n",
        "poly.fit(train_input)\n",
        "train_poly = poly.transform(train_input)\n",
        "print(train_input.shape)\n",
        "print(train_poly.shape)\n",
        "\n",
        "poly.get_feature_names()"
      ],
      "execution_count": 14,
      "outputs": [
        {
          "output_type": "stream",
          "name": "stdout",
          "text": [
            "(42, 3)\n",
            "(42, 9)\n"
          ]
        },
        {
          "output_type": "execute_result",
          "data": {
            "text/plain": [
              "['x0', 'x1', 'x2', 'x0^2', 'x0 x1', 'x0 x2', 'x1^2', 'x1 x2', 'x2^2']"
            ]
          },
          "metadata": {},
          "execution_count": 14
        }
      ]
    },
    {
      "cell_type": "code",
      "metadata": {
        "id": "fJkaGrHhj5Wn"
      },
      "source": [
        "test_poly = poly.transform(test_input)"
      ],
      "execution_count": 17,
      "outputs": []
    },
    {
      "cell_type": "code",
      "metadata": {
        "colab": {
          "base_uri": "https://localhost:8080/"
        },
        "id": "hWw6vMXqjHO8",
        "outputId": "6e924ef8-3f25-4241-e1e7-639686fb5454"
      },
      "source": [
        "from sklearn.linear_model import LinearRegression\n",
        "\n",
        "lr = LinearRegression()\n",
        "lr.fit(train_poly, train_target)\n",
        "lr.score(train_poly, train_target)"
      ],
      "execution_count": 15,
      "outputs": [
        {
          "output_type": "execute_result",
          "data": {
            "text/plain": [
              "0.9903183436982124"
            ]
          },
          "metadata": {},
          "execution_count": 15
        }
      ]
    },
    {
      "cell_type": "code",
      "metadata": {
        "colab": {
          "base_uri": "https://localhost:8080/"
        },
        "id": "q-mjT2ssjoUR",
        "outputId": "45678c28-6677-4fe9-c57f-fc7324046914"
      },
      "source": [
        "lr.score(test_poly, test_target)"
      ],
      "execution_count": 18,
      "outputs": [
        {
          "output_type": "execute_result",
          "data": {
            "text/plain": [
              "0.9714559911594132"
            ]
          },
          "metadata": {},
          "execution_count": 18
        }
      ]
    },
    {
      "cell_type": "code",
      "metadata": {
        "colab": {
          "base_uri": "https://localhost:8080/"
        },
        "id": "mbwGjU4aj-2r",
        "outputId": "c1abdba2-dce7-41cf-ad25-e2c3b66212cd"
      },
      "source": [
        "poly = PolynomialFeatures(degree=7, include_bias=False)\n",
        "poly.fit(train_input)\n",
        "train_poly = poly.transform(train_input)\n",
        "test_poly = poly.transform(test_input)\n",
        "print(train_poly.shape)\n",
        "\n",
        "lr = LinearRegression()\n",
        "lr.fit(train_poly, train_target)\n",
        "print(lr.score(train_poly, train_target))\n",
        "print(lr.score(test_poly, test_target))"
      ],
      "execution_count": 19,
      "outputs": [
        {
          "output_type": "stream",
          "name": "stdout",
          "text": [
            "(42, 119)\n",
            "0.9999999999999942\n",
            "-638.5116255458568\n"
          ]
        }
      ]
    },
    {
      "cell_type": "code",
      "metadata": {
        "colab": {
          "base_uri": "https://localhost:8080/"
        },
        "id": "S_j-Bcrsk8oJ",
        "outputId": "e97782b1-7ef2-46a7-f085-e3d1889386af"
      },
      "source": [
        "from sklearn.preprocessing import StandardScaler\n",
        "\n",
        "ss = StandardScaler()\n",
        "ss.fit(train_poly)\n",
        "train_scaled = ss.transform(train_poly)\n",
        "test_scaled = ss.transform(test_poly)\n",
        "\n",
        "print(train_poly[:3, :5])\n",
        "print(train_scaled[:3, :5])"
      ],
      "execution_count": 20,
      "outputs": [
        {
          "output_type": "stream",
          "name": "stdout",
          "text": [
            "[[ 19.6     5.14    3.04  384.16  100.744]\n",
            " [ 22.      5.88    3.52  484.    129.36 ]\n",
            " [ 18.7     5.2     3.12  349.69   97.24 ]]\n",
            "[[-1.01339619 -1.01007487 -1.01952321 -0.9549757  -0.9496784 ]\n",
            " [-0.73842893 -0.75254307 -0.74466913 -0.76472563 -0.7717585 ]\n",
            " [-1.11650891 -0.98919391 -0.97371419 -1.02065999 -0.9714645 ]]\n"
          ]
        }
      ]
    },
    {
      "cell_type": "code",
      "metadata": {
        "colab": {
          "base_uri": "https://localhost:8080/"
        },
        "id": "Wu72G1LUmITQ",
        "outputId": "5322f5ba-d0be-4046-ba2f-12a9eec26ee5"
      },
      "source": [
        "from sklearn.linear_model import Ridge\n",
        "\n",
        "ridge = Ridge()\n",
        "ridge.fit(train_scaled, train_target)\n",
        "ridge.fit(test_scaled, test_target)"
      ],
      "execution_count": 23,
      "outputs": [
        {
          "output_type": "execute_result",
          "data": {
            "text/plain": [
              "Ridge(alpha=1.0, copy_X=True, fit_intercept=True, max_iter=None,\n",
              "      normalize=False, random_state=None, solver='auto', tol=0.001)"
            ]
          },
          "metadata": {},
          "execution_count": 23
        }
      ]
    },
    {
      "cell_type": "code",
      "metadata": {
        "colab": {
          "base_uri": "https://localhost:8080/"
        },
        "id": "Yvxs6Aw2mtUG",
        "outputId": "65f95458-4815-4f87-a267-809c063f92be"
      },
      "source": [
        "print(ridge.score(train_scaled, train_target))\n",
        "print(ridge.score(test_scaled, test_target))"
      ],
      "execution_count": 24,
      "outputs": [
        {
          "output_type": "stream",
          "name": "stdout",
          "text": [
            "0.9716861995817759\n",
            "0.9976400346300993\n"
          ]
        }
      ]
    },
    {
      "cell_type": "code",
      "metadata": {
        "colab": {
          "base_uri": "https://localhost:8080/"
        },
        "id": "RwbP4ZD6nZZC",
        "outputId": "54af0eca-c29a-47c9-a556-ef806f27b102"
      },
      "source": [
        "from sklearn.linear_model import Lasso\n",
        "\n",
        "lasso = Lasso(alpha = 10)\n",
        "lasso.fit(train_scaled, train_target)\n",
        "lasso.fit(test_scaled, test_target)"
      ],
      "execution_count": 30,
      "outputs": [
        {
          "output_type": "execute_result",
          "data": {
            "text/plain": [
              "Lasso(alpha=10, copy_X=True, fit_intercept=True, max_iter=1000, normalize=False,\n",
              "      positive=False, precompute=False, random_state=None, selection='cyclic',\n",
              "      tol=0.0001, warm_start=False)"
            ]
          },
          "metadata": {},
          "execution_count": 30
        }
      ]
    },
    {
      "cell_type": "code",
      "metadata": {
        "colab": {
          "base_uri": "https://localhost:8080/"
        },
        "id": "H-GhvLztne7q",
        "outputId": "57f9ea08-9344-476c-a0d6-39fec1c4bdd9"
      },
      "source": [
        "print(lasso.score(train_scaled, train_target))\n",
        "print(lasso.score(test_scaled, test_target))"
      ],
      "execution_count": 26,
      "outputs": [
        {
          "output_type": "stream",
          "name": "stdout",
          "text": [
            "0.9629550093681783\n",
            "0.9962823963087288\n"
          ]
        }
      ]
    },
    {
      "cell_type": "code",
      "metadata": {
        "colab": {
          "base_uri": "https://localhost:8080/"
        },
        "id": "gO5-aPyrnjjJ",
        "outputId": "c908d8e2-0de8-4cf3-9a42-deaa72687dd8"
      },
      "source": [
        "np.sum(lasso.coef_ == 0)\n",
        "print(lasso.coef_)\n",
        "print(poly.get_feature_names())\n"
      ],
      "execution_count": 29,
      "outputs": [
        {
          "output_type": "stream",
          "name": "stdout",
          "text": [
            "[ -3.70122275  -0.          -0.           0.           0.\n",
            "   0.           0.           0.           0.          94.08772889\n",
            "  13.10266058 102.05415225   0.           0.         102.08647163\n",
            "   0.           0.           0.          91.22865798   7.42857618\n",
            "   0.           0.           0.           0.           0.\n",
            "   0.           0.           0.           0.           0.\n",
            "   0.           0.           0.           0.           3.48813905\n",
            "   0.           0.           0.           0.           0.\n",
            "   0.           0.           0.           0.           0.\n",
            "   0.           0.           0.           0.           0.\n",
            "   0.           0.           0.           0.           0.\n",
            "   0.           0.           0.           0.           0.\n",
            "   0.           0.           0.           0.           0.\n",
            "   0.           0.           0.           0.           0.\n",
            "   0.          -0.          -0.          -0.          -0.\n",
            "  -0.          -0.          -0.          -0.          -0.\n",
            "  -0.          -0.          -0.           0.           0.\n",
            "   0.           0.          -0.          -0.          -0.\n",
            "  -0.          -0.          -0.          -0.          -0.\n",
            "  -0.          -0.          -0.          -0.          -0.\n",
            "  -0.          -0.          -0.          -0.          -0.\n",
            "  -0.          -0.          -0.          -0.          -0.\n",
            "  -0.          -0.          -0.         -17.72189179 -55.77558424\n",
            " -20.18474705  -3.00020099  -0.          -0.        ]\n",
            "['x0', 'x1', 'x2', 'x0^2', 'x0 x1', 'x0 x2', 'x1^2', 'x1 x2', 'x2^2', 'x0^3', 'x0^2 x1', 'x0^2 x2', 'x0 x1^2', 'x0 x1 x2', 'x0 x2^2', 'x1^3', 'x1^2 x2', 'x1 x2^2', 'x2^3', 'x0^4', 'x0^3 x1', 'x0^3 x2', 'x0^2 x1^2', 'x0^2 x1 x2', 'x0^2 x2^2', 'x0 x1^3', 'x0 x1^2 x2', 'x0 x1 x2^2', 'x0 x2^3', 'x1^4', 'x1^3 x2', 'x1^2 x2^2', 'x1 x2^3', 'x2^4', 'x0^5', 'x0^4 x1', 'x0^4 x2', 'x0^3 x1^2', 'x0^3 x1 x2', 'x0^3 x2^2', 'x0^2 x1^3', 'x0^2 x1^2 x2', 'x0^2 x1 x2^2', 'x0^2 x2^3', 'x0 x1^4', 'x0 x1^3 x2', 'x0 x1^2 x2^2', 'x0 x1 x2^3', 'x0 x2^4', 'x1^5', 'x1^4 x2', 'x1^3 x2^2', 'x1^2 x2^3', 'x1 x2^4', 'x2^5', 'x0^6', 'x0^5 x1', 'x0^5 x2', 'x0^4 x1^2', 'x0^4 x1 x2', 'x0^4 x2^2', 'x0^3 x1^3', 'x0^3 x1^2 x2', 'x0^3 x1 x2^2', 'x0^3 x2^3', 'x0^2 x1^4', 'x0^2 x1^3 x2', 'x0^2 x1^2 x2^2', 'x0^2 x1 x2^3', 'x0^2 x2^4', 'x0 x1^5', 'x0 x1^4 x2', 'x0 x1^3 x2^2', 'x0 x1^2 x2^3', 'x0 x1 x2^4', 'x0 x2^5', 'x1^6', 'x1^5 x2', 'x1^4 x2^2', 'x1^3 x2^3', 'x1^2 x2^4', 'x1 x2^5', 'x2^6', 'x0^7', 'x0^6 x1', 'x0^6 x2', 'x0^5 x1^2', 'x0^5 x1 x2', 'x0^5 x2^2', 'x0^4 x1^3', 'x0^4 x1^2 x2', 'x0^4 x1 x2^2', 'x0^4 x2^3', 'x0^3 x1^4', 'x0^3 x1^3 x2', 'x0^3 x1^2 x2^2', 'x0^3 x1 x2^3', 'x0^3 x2^4', 'x0^2 x1^5', 'x0^2 x1^4 x2', 'x0^2 x1^3 x2^2', 'x0^2 x1^2 x2^3', 'x0^2 x1 x2^4', 'x0^2 x2^5', 'x0 x1^6', 'x0 x1^5 x2', 'x0 x1^4 x2^2', 'x0 x1^3 x2^3', 'x0 x1^2 x2^4', 'x0 x1 x2^5', 'x0 x2^6', 'x1^7', 'x1^6 x2', 'x1^5 x2^2', 'x1^4 x2^3', 'x1^3 x2^4', 'x1^2 x2^5', 'x1 x2^6', 'x2^7']\n"
          ]
        }
      ]
    }
  ]
}