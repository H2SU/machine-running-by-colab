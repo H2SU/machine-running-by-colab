{
  "nbformat": 4,
  "nbformat_minor": 0,
  "metadata": {
    "colab": {
      "name": "Ensemble.ipynb",
      "provenance": [],
      "collapsed_sections": []
    },
    "kernelspec": {
      "name": "python3",
      "display_name": "Python 3"
    },
    "language_info": {
      "name": "python"
    }
  },
  "cells": [
    {
      "cell_type": "code",
      "metadata": {
        "id": "hkXswtxNg5gZ"
      },
      "source": [
        "import numpy as np\n",
        "import pandas as pd\n",
        "from sklearn.model_selection import train_test_split\n",
        "\n",
        "wine = pd.read_csv('https://bit.ly/wine_csv_data')\n",
        "\n",
        "data = wine[['alcohol', 'sugar', 'pH']].to_numpy()\n",
        "target = wine['class'].to_numpy()\n",
        "\n",
        "train_input, test_input, train_target, test_target = train_test_split(data, target, test_size=0.2, random_state=42)"
      ],
      "execution_count": 2,
      "outputs": []
    },
    {
      "cell_type": "code",
      "metadata": {
        "id": "fhdZCAc7wxPx"
      },
      "source": [
        "#랜덤포레스트 구현\n",
        "from sklearn.model_selection import cross_validate\n",
        "from sklearn.ensemble import RandomForestClassifier\n",
        "\n",
        "rf = RandomForestClassifier(n_jobs=-1, random_state=42)\n",
        "scores = cross_validate(rf, train_input, train_target,return_train_score=True, n_jobs=-1)\n"
      ],
      "execution_count": 3,
      "outputs": []
    },
    {
      "cell_type": "code",
      "metadata": {
        "colab": {
          "base_uri": "https://localhost:8080/"
        },
        "id": "HGiQW0aIxFKi",
        "outputId": "a1c79735-f86f-4bfe-8ac3-880ea0ebb0d9"
      },
      "source": [
        "print(np.mean(scores['train_score']))\n",
        "print(np.mean(scores['test_score']))"
      ],
      "execution_count": 5,
      "outputs": [
        {
          "output_type": "stream",
          "name": "stdout",
          "text": [
            "0.9973541965122431\n",
            "0.8905151032797809\n"
          ]
        }
      ]
    },
    {
      "cell_type": "code",
      "metadata": {
        "colab": {
          "base_uri": "https://localhost:8080/"
        },
        "id": "OWQVj9vKxJTG",
        "outputId": "74f563cc-66ce-4f5e-94c5-2ac0c451279f"
      },
      "source": [
        "#특성 중요도\n",
        "rf.fit(train_input, train_target)\n",
        "print(rf.feature_importances_)"
      ],
      "execution_count": 6,
      "outputs": [
        {
          "output_type": "stream",
          "name": "stdout",
          "text": [
            "[0.23167441 0.50039841 0.26792718]\n"
          ]
        }
      ]
    },
    {
      "cell_type": "code",
      "metadata": {
        "colab": {
          "base_uri": "https://localhost:8080/"
        },
        "id": "bLB7_j7H10mg",
        "outputId": "393518ce-3706-4c8b-d728-a19e365250f4"
      },
      "source": [
        "#OOB샘플\n",
        "rf=RandomForestClassifier(oob_score=True, n_jobs=-1, random_state=42)\n",
        "rf.fit(train_input, train_target)\n",
        "print(rf.oob_score_)\n",
        "print(rf.feature_importances_)"
      ],
      "execution_count": 10,
      "outputs": [
        {
          "output_type": "stream",
          "name": "stdout",
          "text": [
            "0.8934000384837406\n",
            "[0.23167441 0.50039841 0.26792718]\n"
          ]
        }
      ]
    },
    {
      "cell_type": "code",
      "metadata": {
        "colab": {
          "base_uri": "https://localhost:8080/"
        },
        "id": "En3snpZ_2IsS",
        "outputId": "305aec46-d80c-4788-f6ab-df1f9f55acce"
      },
      "source": [
        "#엑스트라 트리\n",
        "from sklearn.ensemble import ExtraTreesClassifier\n",
        "et = ExtraTreesClassifier(n_jobs=-1, random_state=42)\n",
        "scores = cross_validate(et, train_input, train_target,return_train_score=True, n_jobs=-1)\n",
        "et.fit(train_input, train_target)\n",
        "\n",
        "print(np.mean(scores['train_score']))\n",
        "print(np.mean(scores['test_score']))\n",
        "print(et.feature_importances_)"
      ],
      "execution_count": 13,
      "outputs": [
        {
          "output_type": "stream",
          "name": "stdout",
          "text": [
            "0.9974503966084433\n",
            "0.8887848893166506\n",
            "[0.20183568 0.52242907 0.27573525]\n"
          ]
        }
      ]
    },
    {
      "cell_type": "code",
      "metadata": {
        "colab": {
          "base_uri": "https://localhost:8080/"
        },
        "id": "anC0dD2d3y9p",
        "outputId": "dcf4ccd6-f52b-47d6-aeaa-ec98b828dbcb"
      },
      "source": [
        "from sklearn.ensemble import GradientBoostingClassifier\n",
        "\n",
        "gb = GradientBoostingClassifier(n_estimators=500, learning_rate=0.2, random_state=42)\n",
        "scores = cross_validate(gb, train_input, train_target,return_train_score=True, n_jobs=-1)\n",
        "gb.fit(train_input, train_target)\n",
        "\n",
        "print(np.mean(scores['train_score']))\n",
        "print(np.mean(scores['test_score']))\n",
        "print(gb.score(test_input, test_target))"
      ],
      "execution_count": 20,
      "outputs": [
        {
          "output_type": "stream",
          "name": "stdout",
          "text": [
            "0.9464595437171814\n",
            "0.8780082549788999\n",
            "0.8707692307692307\n"
          ]
        }
      ]
    },
    {
      "cell_type": "code",
      "metadata": {
        "colab": {
          "base_uri": "https://localhost:8080/"
        },
        "id": "f7895hMj2xCJ",
        "outputId": "39d4e8d5-e46d-4998-dc39-594ee636b293"
      },
      "source": [
        "from sklearn.ensemble import GradientBoostingClassifier\n",
        "\n",
        "gb = GradientBoostingClassifier(n_estimators=500, learning_rate=0.2, subsample=0.8, random_state=42)\n",
        "scores = cross_validate(gb, train_input, train_target,return_train_score=True, n_jobs=-1)\n",
        "gb.fit(train_input, train_target)\n",
        "\n",
        "print(np.mean(scores['train_score']))\n",
        "print(np.mean(scores['test_score']))\n",
        "print(gb.score(test_input, test_target))"
      ],
      "execution_count": 23,
      "outputs": [
        {
          "output_type": "stream",
          "name": "stdout",
          "text": [
            "0.9463633551918373\n",
            "0.877815577108166\n",
            "0.8730769230769231\n"
          ]
        }
      ]
    }
  ]
}