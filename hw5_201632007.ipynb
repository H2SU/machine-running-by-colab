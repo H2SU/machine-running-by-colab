{
  "nbformat": 4,
  "nbformat_minor": 0,
  "metadata": {
    "colab": {
      "name": "kNNRegression.ipynb",
      "provenance": [],
      "collapsed_sections": []
    },
    "kernelspec": {
      "name": "python3",
      "display_name": "Python 3"
    },
    "language_info": {
      "name": "python"
    }
  },
  "cells": [
    {
      "cell_type": "code",
      "metadata": {
        "id": "aMO8xAUEM2U9"
      },
      "source": [
        "import numpy as np"
      ],
      "execution_count": 40,
      "outputs": []
    },
    {
      "cell_type": "code",
      "metadata": {
        "id": "0fYVuIx-MjfT"
      },
      "source": [
        "perch_length = np.array([25.4, 26.3, 26.5, 29.0, 29.0, 29.7, 29.7, 30.0, 30.7, 31.0,\n",
        "                31.5, 32.0, 33.0, 33.5, 34.0, 34.5, 35.0 ,36.0, 37.0, 38.5,\n",
        "                38.0, 39.0, 39.5, 30.0, 30.7, 31.0, 31.5, 32.0, 33.0, 33.5,\n",
        "                34.0, 34.5, 35.0 ,36.0, 37.0,9.8, 10.5, 10.6, 11.0, 11.2, 11.3, 11.8, 11.8, 12.0, 12.2,\n",
        "                 12.4, 13.0, 14.3, 15.0])\n",
        "perch_weight = np.array([242.0, 290.0, 340.0, 363.0, 430.0, 450.0, 500.0, 390.0, 450.0, 500.0,\n",
        "                475.0, 500.0, 500.0, 340.0, 600.0, 600.0, 700.0, 700.0, 610.0, 650.0,\n",
        "                575.0, 685.0, 620.0, 680.0, 700.0, 725.0, 720.0, 714.0, 850.0, 1000.0,\n",
        "                920.0, 955.0, 925.0, 975.0, 950.0,6.7, 7.5, 7.0, 9.7, 9.8, 8.7, 10.0, 9.9, 9.8, 12.2, 13.4,\n",
        "                 12.2, 19.7, 19.9])"
      ],
      "execution_count": 41,
      "outputs": []
    },
    {
      "cell_type": "code",
      "metadata": {
        "colab": {
          "base_uri": "https://localhost:8080/"
        },
        "id": "0Mith4_3M_4J",
        "outputId": "6178e682-2c68-4020-ce6b-e13a81d6b944"
      },
      "source": [
        "print(perch_length.shape)\n",
        "print(perch_weight.shape)"
      ],
      "execution_count": 42,
      "outputs": [
        {
          "output_type": "stream",
          "name": "stdout",
          "text": [
            "(49,)\n",
            "(49,)\n"
          ]
        }
      ]
    },
    {
      "cell_type": "code",
      "metadata": {
        "colab": {
          "base_uri": "https://localhost:8080/",
          "height": 279
        },
        "id": "bwdZajFKNQpo",
        "outputId": "680017ce-ebe9-44bf-b7bb-a4610e5bb945"
      },
      "source": [
        "import matplotlib.pyplot as plt\n",
        "\n",
        "plt.scatter(perch_length, perch_weight)\n",
        "plt.xlabel('length')\n",
        "plt.ylabel('weight')\n",
        "plt.show()"
      ],
      "execution_count": 43,
      "outputs": [
        {
          "output_type": "display_data",
          "data": {
            "image/png": "[encoded data removed]",
            "text/plain": [
              "<Figure size 432x288 with 1 Axes>"
            ]
          },
          "metadata": {
            "needs_background": "light"
          }
        }
      ]
    },
    {
      "cell_type": "code",
      "metadata": {
        "colab": {
          "base_uri": "https://localhost:8080/"
        },
        "id": "Xu9WwBoSNkOp",
        "outputId": "6a8d02c4-7498-4246-e8a7-e9715d903a89"
      },
      "source": [
        "from sklearn.model_selection import train_test_split\n",
        "\n",
        "train_input, test_input, train_target, test_target = train_test_split(perch_length, perch_weight, random_state=42)\n",
        "\n",
        "print(train_input.shape)\n",
        "print(test_input.shape)\n",
        "print(train_target.shape)\n",
        "print(test_target.shape)\n",
        "\n",
        "train_input[:5]"
      ],
      "execution_count": 44,
      "outputs": [
        {
          "output_type": "stream",
          "name": "stdout",
          "text": [
            "(36,)\n",
            "(13,)\n",
            "(36,)\n",
            "(13,)\n"
          ]
        },
        {
          "output_type": "execute_result",
          "data": {
            "text/plain": [
              "array([30.7, 29. , 29.7, 11.3, 11.8])"
            ]
          },
          "metadata": {},
          "execution_count": 44
        }
      ]
    },
    {
      "cell_type": "code",
      "metadata": {
        "colab": {
          "base_uri": "https://localhost:8080/"
        },
        "id": "UGhwj5J7OQE6",
        "outputId": "39b1f698-0d10-497f-f8d4-ba02f2c4a99f"
      },
      "source": [
        "test_arr = np.array([1,2,3,4,5,6])\n",
        "print(test_arr)\n",
        "print(test_arr.shape)\n",
        "print(test_arr.ndim)"
      ],
      "execution_count": 45,
      "outputs": [
        {
          "output_type": "stream",
          "name": "stdout",
          "text": [
            "[1 2 3 4 5 6]\n",
            "(6,)\n",
            "1\n"
          ]
        }
      ]
    },
    {
      "cell_type": "code",
      "metadata": {
        "colab": {
          "base_uri": "https://localhost:8080/"
        },
        "id": "OUDAfC2YOWQ9",
        "outputId": "6aeff92f-5c51-449f-e920-836abb4851a2"
      },
      "source": [
        "test_arr = test_arr.reshape(-1,1)\n",
        "print(test_arr)\n",
        "print(test_arr.shape)\n",
        "print(test_arr.ndim)"
      ],
      "execution_count": 46,
      "outputs": [
        {
          "output_type": "stream",
          "name": "stdout",
          "text": [
            "[[1]\n",
            " [2]\n",
            " [3]\n",
            " [4]\n",
            " [5]\n",
            " [6]]\n",
            "(6, 1)\n",
            "2\n"
          ]
        }
      ]
    },
    {
      "cell_type": "code",
      "metadata": {
        "colab": {
          "base_uri": "https://localhost:8080/"
        },
        "id": "wCAqtCGAOpKj",
        "outputId": "b85cf177-43b1-4a6c-a9ab-27acf1a48d7d"
      },
      "source": [
        "train_input = train_input.reshape(-1,1)\n",
        "test_input = test_input.reshape(-1,1)\n",
        "\n",
        "print(train_input.shape)\n",
        "print(test_input.shape)\n",
        "print(train_target.shape)\n",
        "print(test_target.shape)\n",
        "\n",
        "train_input[:5]"
      ],
      "execution_count": 47,
      "outputs": [
        {
          "output_type": "stream",
          "name": "stdout",
          "text": [
            "(36, 1)\n",
            "(13, 1)\n",
            "(36,)\n",
            "(13,)\n"
          ]
        },
        {
          "output_type": "execute_result",
          "data": {
            "text/plain": [
              "array([[30.7],\n",
              "       [29. ],\n",
              "       [29.7],\n",
              "       [11.3],\n",
              "       [11.8]])"
            ]
          },
          "metadata": {},
          "execution_count": 47
        }
      ]
    },
    {
      "cell_type": "code",
      "metadata": {
        "colab": {
          "base_uri": "https://localhost:8080/"
        },
        "id": "UEqpuatvQYsB",
        "outputId": "2f0afa9a-49e5-42e1-ce49-9703cd378971"
      },
      "source": [
        "from sklearn.neighbors import KNeighborsRegressor\n",
        "\n",
        "knr = KNeighborsRegressor()\n",
        "\n",
        "knr.fit(train_input, train_target)\n",
        "\n"
      ],
      "execution_count": 48,
      "outputs": [
        {
          "output_type": "execute_result",
          "data": {
            "text/plain": [
              "KNeighborsRegressor(algorithm='auto', leaf_size=30, metric='minkowski',\n",
              "                    metric_params=None, n_jobs=None, n_neighbors=5, p=2,\n",
              "                    weights='uniform')"
            ]
          },
          "metadata": {},
          "execution_count": 48
        }
      ]
    },
    {
      "cell_type": "code",
      "metadata": {
        "colab": {
          "base_uri": "https://localhost:8080/"
        },
        "id": "h1BhyOKQQlHl",
        "outputId": "5e2a8a7a-b129-4b3f-e9f9-dfb10b733f1e"
      },
      "source": [
        "knr.score(test_input, test_target)"
      ],
      "execution_count": 49,
      "outputs": [
        {
          "output_type": "execute_result",
          "data": {
            "text/plain": [
              "0.6444412221961292"
            ]
          },
          "metadata": {},
          "execution_count": 49
        }
      ]
    },
    {
      "cell_type": "code",
      "metadata": {
        "colab": {
          "base_uri": "https://localhost:8080/"
        },
        "id": "aCGwRg91QxEn",
        "outputId": "d77e8cf7-45b8-47b1-a04a-4e5998cb7a72"
      },
      "source": [
        "from sklearn.metrics import mean_absolute_error\n",
        "from sklearn.metrics import mean_squared_error\n",
        "\n",
        "test_predict = knr.predict(test_input)\n",
        "train_predict = knr.predict(train_input)\n",
        "mae = mean_absolute_error(test_target, test_predict)\n",
        "\n",
        "print(mae)\n",
        "\n",
        "mse = mean_squared_error(test_target, test_predict)\n",
        "\n",
        "print(mse)"
      ],
      "execution_count": 50,
      "outputs": [
        {
          "output_type": "stream",
          "name": "stdout",
          "text": [
            "141.7923076923077\n",
            "36888.34772307692\n"
          ]
        }
      ]
    },
    {
      "cell_type": "code",
      "metadata": {
        "colab": {
          "base_uri": "https://localhost:8080/"
        },
        "id": "_d2VX6yIRe5d",
        "outputId": "9dbba57f-3273-4ec9-f873-7c1aa93a503c"
      },
      "source": [
        "knr.score(test_input, test_target)"
      ],
      "execution_count": 51,
      "outputs": [
        {
          "output_type": "execute_result",
          "data": {
            "text/plain": [
              "0.6444412221961292"
            ]
          },
          "metadata": {},
          "execution_count": 51
        }
      ]
    },
    {
      "cell_type": "code",
      "metadata": {
        "colab": {
          "base_uri": "https://localhost:8080/"
        },
        "id": "gRFxduZfRi-U",
        "outputId": "06bf153c-e82e-4718-a23f-dfe6e1dd07ae"
      },
      "source": [
        "n_neighbors = 11\n",
        "\n",
        "knr = KNeighborsRegressor(n_neighbors=n_neighbors)\n",
        "\n",
        "knr.fit(train_input, train_target)\n",
        "\n",
        "test_predict = knr.predict(test_input)\n",
        "train_predict = knr.predict(train_input)\n",
        "\n",
        "print('R2_train =', knr.score(train_input, train_target), '(mae=', mean_absolute_error(train_target, train_predict), ')')\n",
        "print('R2_test =', knr.score(test_input, test_target), '(mae=', mean_absolute_error(test_target, test_predict), ')')\n",
        "\n",
        "mae = mean_absolute_error(test_target, test_predict)"
      ],
      "execution_count": 54,
      "outputs": [
        {
          "output_type": "stream",
          "name": "stdout",
          "text": [
            "R2_train = 0.8629343839438838 (mae= 90.99090909090908 )\n",
            "R2_test = 0.7352153785994187 (mae= 124.95594405594406 )\n"
          ]
        }
      ]
    }
  ]
}